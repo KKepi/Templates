{
 "cells": [
  {
   "cell_type": "code",
   "execution_count": 1,
   "id": "bfa18d69",
   "metadata": {},
   "outputs": [],
   "source": [
    "from pulp import *"
   ]
  },
  {
   "cell_type": "code",
   "execution_count": null,
   "id": "afe76a1c",
   "metadata": {},
   "outputs": [],
   "source": [
    "# stanoveni primalu\n",
    "\n",
    "suppliers = ['D1', 'D2', 'D3']             # množina I\n",
    "customers = ['O1', 'O2', 'O3', 'O4']       # množina J\n",
    "\n",
    "capacity = {                               #  s_i   (pravé strany kapacit)\n",
    "    'D1': 20,\n",
    "    'D2': 30,\n",
    "    'D3': 25\n",
    "}\n",
    "\n",
    "demand = {                                 #  d_j   (rovnostní pravé strany poptávky)\n",
    "    'O1': 10,\n",
    "    'O2': 25,\n",
    "    'O3': 25,\n",
    "    'O4': 15\n",
    "}\n",
    "\n",
    "# koeficiekty promennych\n",
    "cost = {\n",
    "    ('D1','O1'): 2,  ('D1','O2'): 3,  ('D1','O3'): 1,  ('D1','O4'): 4,\n",
    "    ('D2','O1'): 3,  ('D2','O2'): 2,  ('D2','O3'): 4,  ('D2','O4'): 1,\n",
    "    ('D3','O1'): 5,  ('D3','O2'): 6,  ('D3','O3'): 2,  ('D3','O4'): 3\n",
    "}\n",
    "\n",
    "#    O1  O2  O3  O4\n",
    "# D1  2   3   1   4 20\n",
    "# D2  3   2   4   1 30\n",
    "# D3  5   6   2   3 25\n",
    "#    10   25  25  15"
   ]
  },
  {
   "cell_type": "code",
   "execution_count": 3,
   "id": "d51838e8",
   "metadata": {},
   "outputs": [],
   "source": [
    "# příprava modelu\n",
    "model = LpProblem(\"Transport\", LpMinimize)\n",
    "x = LpVariable.dicts(\"x\",\n",
    "                     (suppliers, customers),\n",
    "                     lowBound=0)"
   ]
  },
  {
   "cell_type": "code",
   "execution_count": 4,
   "id": "37fb9544",
   "metadata": {},
   "outputs": [],
   "source": [
    "# objective function: cílová funkce (minimalizace nákladů)\n",
    "\n",
    "model += lpSum(cost[i,j] * x[i][j]\n",
    "               for i in suppliers\n",
    "               for j in customers), \"TotalCost\""
   ]
  },
  {
   "cell_type": "markdown",
   "id": "bc2f05e9",
   "metadata": {},
   "source": [
    "\n",
    "minimalizuj = 2 x<sub>11</sub> + 3 x<sub>12</sub> + x<sub>13</sub> + 4 x<sub>14</sub> + 3 x<sub>21</sub> + 2 x<sub>22</sub> + 4 x<sub>23</sub> + x<sub>24</sub> + 5 x<sub>31</sub> + 6 x<sub>32</sub> + 2 x<sub>33</sub> + 3 x<sub>34</sub>"
   ]
  },
  {
   "cell_type": "code",
   "execution_count": 5,
   "id": "2e35abf9",
   "metadata": {},
   "outputs": [],
   "source": [
    "# constraints: omezení proměnných\n",
    "\n",
    "# Dodavatelé – kapacitní nerovnosti   Σ_j x_{ij} ≤ s_i\n",
    "for i in suppliers:\n",
    "    model += lpSum(x[i][j] for j in customers) <= capacity[i], f\"supply_{i}\"\n",
    "\n",
    "# Odběratelé – poptávka   Σ_i x_{ij} = d_j\n",
    "for j in customers:\n",
    "    model += lpSum(x[i][j] for i in suppliers) == demand[j], f\"demand_{j}\""
   ]
  },
  {
   "cell_type": "markdown",
   "id": "d05f5fb4",
   "metadata": {},
   "source": [
    "D1: x<sub>11</sub> + x<sub>12</sub> + x<sub>13</sub> + x<sub>14</sub> <= 20  \n",
    "D2: x<sub>21</sub> + x<sub>22</sub> + x<sub>23</sub> + x<sub>24</sub> <= 30  \n",
    "D3: x<sub>31</sub> + x<sub>32</sub> + x<sub>33</sub> + x<sub>34</sub> <= 30  \n",
    "  \n",
    "O1: x<sub>11</sub> + x<sub>21</sub> + x<sub>31</sub> = 10  \n",
    "O1: x<sub>12</sub> + x<sub>22</sub> + x<sub>32</sub> = 25  \n",
    "O1: x<sub>13</sub> + x<sub>23</sub> + x<sub>33</sub> = 25  \n",
    "O1: x<sub>14</sub> + x<sub>24</sub> + x<sub>34</sub> = 15  \n",
    "\n",
    "x<sub>ij</sub> >= 0"
   ]
  },
  {
   "cell_type": "code",
   "execution_count": 6,
   "id": "533c917a",
   "metadata": {},
   "outputs": [
    {
     "data": {
      "text/plain": [
       "1"
      ]
     },
     "execution_count": 6,
     "metadata": {},
     "output_type": "execute_result"
    }
   ],
   "source": [
    "# řešení\n",
    "\n",
    "model.solve()"
   ]
  },
  {
   "cell_type": "code",
   "execution_count": 7,
   "id": "ad5fc887",
   "metadata": {},
   "outputs": [
    {
     "name": "stdout",
     "output_type": "stream",
     "text": [
      "\n",
      "✅  Stav: Optimal\n",
      "💰  Minimální náklady: 145.00 Kč\n",
      "\n",
      "📦  Přepravní plán (x_{ij} > 0):\n",
      "   D1 → O1: 10.0 jednotek\n",
      "   D1 → O3: 10.0 jednotek\n",
      "   D2 → O2: 25.0 jednotek\n",
      "   D2 → O4: 5.0 jednotek\n",
      "   D3 → O3: 15.0 jednotek\n",
      "   D3 → O4: 10.0 jednotek\n"
     ]
    }
   ],
   "source": [
    "# řešení primalu\n",
    "\n",
    "print(f\"\\n✅  Stav: {LpStatus[model.status]}\")\n",
    "print(f\"💰  Minimální náklady: {value(model.objective):.2f} Kč\\n\")\n",
    "\n",
    "print(\"📦  Přepravní plán (x_{ij} > 0):\")\n",
    "for i in suppliers:\n",
    "    for j in customers:\n",
    "        q = x[i][j].varValue\n",
    "        if q > 1e-6:\n",
    "            print(f\"   {i} → {j}: {q:.1f} jednotek\")"
   ]
  },
  {
   "cell_type": "code",
   "execution_count": 8,
   "id": "1f37cadc",
   "metadata": {},
   "outputs": [
    {
     "name": "stdout",
     "output_type": "stream",
     "text": [
      "\n",
      "📊  Slacky a duální proměnné\n",
      "-------------------------------------------------------------\n",
      "Omezení      |   Slack |      Dual | Aktivní\n",
      "-------------------------------------------------------------\n",
      "supply_D1    |    -0.0 |     -1.00 | True\n",
      "supply_D2    |    -0.0 |     -2.00 | True\n",
      "supply_D3    |    -0.0 |      0.00 | True\n",
      "demand_O1    |    -0.0 |      3.00 | True\n",
      "demand_O2    |    -0.0 |      4.00 | True\n",
      "demand_O3    |    -0.0 |      2.00 | True\n",
      "demand_O4    |    -0.0 |      3.00 | True\n"
     ]
    }
   ],
   "source": [
    "# slacky (fiktivní dodavatelé) a stínové ceny (váhy)\n",
    "print(\"\\n📊  Slacky a duální proměnné\")\n",
    "print(\"-------------------------------------------------------------\")\n",
    "print(f\"{'Omezení':<12} | {'Slack':>7} | {'Dual':>9} | Aktivní\")\n",
    "print(\"-------------------------------------------------------------\")\n",
    "\n",
    "for c in model.constraints.values():\n",
    "    name  = c.name\n",
    "    slack = c.slack                 # b − A·x\n",
    "    dual  = c.pi                    # stínová cena\n",
    "    active = abs(slack) < 1e-6\n",
    "    print(f\"{name:<12} | {slack:7.1f} | {dual:9.2f} | {active}\")"
   ]
  },
  {
   "cell_type": "code",
   "execution_count": 9,
   "id": "e56f8ce0",
   "metadata": {},
   "outputs": [
    {
     "name": "stdout",
     "output_type": "stream",
     "text": [
      "\n",
      "🔍  Primal = 145.00,  Dual = 145.00,  Gap = 0.00e+00\n"
     ]
    }
   ],
   "source": [
    "# kontrola duality (optimalizace)\n",
    "\n",
    "dual_value = (\n",
    "    sum(capacity[i] * model.constraints[f\"supply_{i}\"].pi for i in suppliers) +\n",
    "    sum(demand[j]   * model.constraints[f\"demand_{j}\"].pi for j in customers)\n",
    ")\n",
    "gap = value(model.objective) - dual_value\n",
    "print(f\"\\n🔍  Primal = {value(model.objective):.2f},  Dual = {dual_value:.2f},  Gap = {gap:.2e}\")"
   ]
  }
 ],
 "metadata": {
  "kernelspec": {
   "display_name": "Python 3",
   "language": "python",
   "name": "python3"
  },
  "language_info": {
   "codemirror_mode": {
    "name": "ipython",
    "version": 3
   },
   "file_extension": ".py",
   "mimetype": "text/x-python",
   "name": "python",
   "nbconvert_exporter": "python",
   "pygments_lexer": "ipython3",
   "version": "3.11.1"
  }
 },
 "nbformat": 4,
 "nbformat_minor": 5
}
