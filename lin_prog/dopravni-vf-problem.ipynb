{
 "cells": [
  {
   "cell_type": "code",
   "execution_count": 3,
   "id": "5c1556c0",
   "metadata": {},
   "outputs": [],
   "source": [
    "from pulp import *"
   ]
  },
  {
   "cell_type": "code",
   "execution_count": null,
   "id": "df093cef",
   "metadata": {},
   "outputs": [],
   "source": [
    "# stanoveni primalu\n",
    "\n",
    "suppliers  = ['S1', 'S2']\n",
    "depots     = ['D1', 'D2', 'D3']\n",
    "customers  = ['C1', 'C2', 'C3', 'C4']\n",
    "\n",
    "capacity = {'S1': 35, 'S2': 45}\n",
    "demand   = {'C1': 20, 'C2': 25, 'C3': 15, 'C4': 20}\n",
    "\n",
    "# koeficienty promennych\n",
    "cost_SD = {              # první fáze\n",
    "    ('S1','D1'):4, ('S1','D2'):6, ('S1','D3'):5,\n",
    "    ('S2','D1'):3, ('S2','D2'):2, ('S2','D3'):4\n",
    "}\n",
    "\n",
    "# koeficiekty promennych\n",
    "cost_DC = {              # druhá fáze\n",
    "    ('D1','C1'):3, ('D1','C2'):4, ('D1','C3'):2, ('D1','C4'):3,\n",
    "    ('D2','C1'):5, ('D2','C2'):2, ('D2','C3'):4, ('D2','C4'):1,\n",
    "    ('D3','C1'):4, ('D3','C2'):3, ('D3','C3'):3, ('D3','C4'):2\n",
    "}\n",
    "\n",
    "# S->D\n",
    "# D1  D2  D3 kapacita\n",
    "# S1  4   6   5  35\n",
    "# S2  3   2   4  45\n",
    "\n",
    "# D->C\n",
    "#     C1  C2  C3  C4\n",
    "# D1  3   4   2   3\n",
    "# D2  5   2   4   1\n",
    "# D3  4   3   3   2\n",
    "#     20  25  15  20\n",
    "#        odbery"
   ]
  },
  {
   "cell_type": "markdown",
   "id": "75feba0e",
   "metadata": {},
   "source": [
    "min **c**<sup>T</sup>x  \n",
    "s.t. A**x**<=**b**  \n",
    "**x**>=0"
   ]
  },
  {
   "cell_type": "code",
   "execution_count": 5,
   "id": "002651bc",
   "metadata": {},
   "outputs": [],
   "source": [
    "# příprava modelu\n",
    "model = LpProblem(\"TwoStageTransport\", LpMinimize)\n",
    "# S -> D\n",
    "x = LpVariable.dicts(\"x\", (suppliers, depots), lowBound=0)\n",
    "# D -> C\n",
    "y = LpVariable.dicts(\"y\", (depots, customers), lowBound=0)"
   ]
  },
  {
   "cell_type": "code",
   "execution_count": 6,
   "id": "69fcbdc3",
   "metadata": {},
   "outputs": [],
   "source": [
    "# objective function: cílová funkce (minimalizace nákladů)\n",
    "\n",
    "model += (\n",
    "    lpSum(cost_SD[i,k] * x[i][k] for i in suppliers for k in depots) +\n",
    "    lpSum(cost_DC[k,j] * y[k][j] for k in depots    for j in customers)\n",
    "), \"TotalCost\"\n"
   ]
  },
  {
   "cell_type": "markdown",
   "id": "ba1e8a06",
   "metadata": {},
   "source": [
    "minimalizuj =  \n",
    "4 x<sub>11</sub> + 6 x<sub>12</sub> + 5 x<sub>13</sub> **S->D**  \n",
    "+3 x<sub>21</sub> + 2<sub>22</sub> + 4 x<sub>23</sub> **S->D**  \n",
    "+3 y<sub>11</sub> + 4 y<sub>12</sub> + 2 y<sub>13</sub> + 3 y<sub>14</sub> **D->C**  \n",
    "+5 y<sub>21</sub> + 2 y<sub>22</sub> + 4 y<sub>23</sub> + 1 y<sub>24</sub> **D->C**  \n",
    "+4 y<sub>31</sub> + 3 y<sub>32</sub> + 3 y<sub>33</sub> + 2 y<sub>34</sub> **D->C**  \n",
    "  \n",
    "\n",
    "c, d = koeficient  \n",
    "x, y = množství  \n",
    "∑<sub>ij</sub> c<sub>ij</sub>x<sub>ij</sub> + ∑<sub>jk</sub> d<sub>ij</sub>y<sub>ij</sub>"
   ]
  },
  {
   "cell_type": "code",
   "execution_count": 7,
   "id": "3e160525",
   "metadata": {},
   "outputs": [],
   "source": [
    "# constraints: omezení proměnných\n",
    "\n",
    "# kapacita dodavatelů\n",
    "for i in suppliers:\n",
    "    model += lpSum(x[i][k] for k in depots) <= capacity[i], f\"supply_{i}\"\n",
    "# rovnováha v depech\n",
    "for k in depots:\n",
    "    model += (\n",
    "        lpSum(x[i][k] for i in suppliers) ==\n",
    "        lpSum(y[k][j] for j in customers)\n",
    "    ), f\"balance_{k}\"\n",
    "# poptávka zákazníků\n",
    "for j in customers:\n",
    "    model += lpSum(y[k][j] for k in depots) == demand[j], f\"demand_{j}\"\n",
    "    "
   ]
  },
  {
   "cell_type": "markdown",
   "id": "bcf764c9",
   "metadata": {},
   "source": [
    "Kapacity dodavatelů (S):  \n",
    "4x<sub>11</sub> + 6x<sub>12</sub> + 5x<sub>13</sub> <= 35  \n",
    "3x<sub>21</sub> + 2x<sub>22</sub> + 4x<sub>23</sub> <= 45  \n",
    "  \n",
    "∑<sub>j</sub>x<sub>ij</sub><= s<sub>i</sub>\n",
    "\n",
    "```python\n",
    "#     D1    D2    D3   kapacita\n",
    "# S1  [4]   [6]   [5]  [35]\n",
    "# S2  {3}   {2}   {4}  {45}\n",
    "```\n",
    "  \n",
    "Bilance ve skladech tj. (spojení fází):  \n",
    "*to co vydám ze skladu (S) = to co získá záklazník (C)*  \n",
    "4x<sub>11</sub> + 3x<sub>21</sub> = 3y<sub>11</sub> + 4y<sub>12</sub> + 2y<sub>13</sub> + 3y<sub>14</sub>  \n",
    "6x<sub>12</sub> + 2x<sub>22</sub> = 5y<sub>21</sub> + 2y<sub>22</sub> + 4y<sub>23</sub> + 1y<sub>24</sub>  \n",
    "5x<sub>13</sub> + 4x<sub>23</sub> = 4y<sub>31</sub> + 3y<sub>32</sub> + 3y<sub>33</sub> + 2y<sub>34</sub>  \n",
    "  \n",
    "∑<sub>i</sub>x<sub>ij</sub> = ∑<sub>k</sub>y<sub>jk</sub>\n",
    "  \n",
    "```python\n",
    "#     D1    D2    D3   kapacita\n",
    "# S1  [4]   {6}   (5)  35\n",
    "# S2  [3]   {2}   (4)  45\n",
    "\n",
    "#     C1    C2    C3    C4\n",
    "# D1  [3]   [4]   [2]   [3]\n",
    "# D2  {5}   {2}   {4}   {1}\n",
    "# D3  (4)   (3)   (3)   (2)\n",
    "#     20     25    15    20\n",
    "#        odbery\n",
    "```\n",
    "\n",
    "Poptávka zákazníka (C) = odběry:  \n",
    "3y<sub>11</sub> + 5y<sub>21</sub> + 4y<sub>31</sub> = 20  \n",
    "4y<sub>12</sub> + 2y<sub>22</sub> + 3y<sub>32</sub> = 25  \n",
    "2y<sub>13</sub> + 4y<sub>23</sub> + 3y<sub>33</sub> = 15  \n",
    "3y<sub>14</sub> + 1y<sub>24</sub> + 2y<sub>34</sub> = 20  \n",
    "  \n",
    "∑<sub>j</sub>y<sub>jk</sub> = d<sub>k</sub>\n",
    "  \n",
    "```python\n",
    "#     C1    C2    C3    C4\n",
    "# D1  [3]   {4}   (2)   -3-\n",
    "# D2  [5]   {2}   (4)   -1-\n",
    "# D3  [4]   {3}   (3)   -2-\n",
    "#     [20]  {25}  (15)  -20-\n",
    "#            odbery\n",
    "```"
   ]
  },
  {
   "cell_type": "code",
   "execution_count": 8,
   "id": "05867529",
   "metadata": {},
   "outputs": [
    {
     "data": {
      "text/plain": [
       "1"
      ]
     },
     "execution_count": 8,
     "metadata": {},
     "output_type": "execute_result"
    }
   ],
   "source": [
    "# řešení\n",
    "model.solve()"
   ]
  },
  {
   "cell_type": "code",
   "execution_count": 9,
   "id": "05b6880e",
   "metadata": {},
   "outputs": [
    {
     "name": "stdout",
     "output_type": "stream",
     "text": [
      "Stav: Optimal\n",
      "Min. náklady: 390.00\n",
      "\n",
      "Tok S → D:\n",
      "  S1 → D1: 35.0\n",
      "  S2 → D2: 45.0\n",
      "\n",
      "Tok D → C:\n",
      "  D1 → C1: 20.0\n",
      "  D1 → C3: 15.0\n",
      "  D2 → C2: 25.0\n",
      "  D2 → C4: 20.0\n"
     ]
    }
   ],
   "source": [
    "# řešení primalu\n",
    "print(f\"Stav: {LpStatus[model.status]}\")\n",
    "print(f\"Min. náklady: {value(model.objective):.2f}\\n\")\n",
    "\n",
    "print(\"Tok S → D:\")\n",
    "for i in suppliers:\n",
    "    for k in depots:\n",
    "        if x[i][k].varValue > 1e-6:\n",
    "            print(f\"  {i} → {k}: {x[i][k].varValue:.1f}\")\n",
    "\n",
    "print(\"\\nTok D → C:\")\n",
    "for k in depots:\n",
    "    for j in customers:\n",
    "        if y[k][j].varValue > 1e-6:\n",
    "            print(f\"  {k} → {j}: {y[k][j].varValue:.1f}\")"
   ]
  },
  {
   "cell_type": "markdown",
   "id": "ed105f72",
   "metadata": {},
   "source": [
    "min **c**<sup>T</sup>x  \n",
    "s.t. A**x**<=**b**  \n",
    "**x**>=0\n",
    "\n",
    "max **b**^<sup>T</sup>y  \n",
    "s.t. A<sup>T</sup>**y**>=**c**  \n",
    "**y**<= 0  \n",
    "  \n",
    "-> primalová proměnná (počet) = duální omezení  \n",
    "-> primálové omezení (maximum/minimum) = duální proměnná"
   ]
  },
  {
   "cell_type": "code",
   "execution_count": 10,
   "id": "788078c0",
   "metadata": {},
   "outputs": [
    {
     "name": "stdout",
     "output_type": "stream",
     "text": [
      "\n",
      "Slacky a stínové ceny\n",
      "supply_S1    | Slack=  -0.0 | Dual=  0.00\n",
      "supply_S2    | Slack=  -0.0 | Dual= -1.00\n",
      "balance_D1   | Slack=  -0.0 | Dual=  4.00\n",
      "balance_D2   | Slack=  -0.0 | Dual=  3.00\n",
      "balance_D3   | Slack=  -0.0 | Dual=  3.00\n",
      "demand_C1    | Slack=  -0.0 | Dual=  7.00\n",
      "demand_C2    | Slack=  -0.0 | Dual=  5.00\n",
      "demand_C3    | Slack=  -0.0 | Dual=  6.00\n",
      "demand_C4    | Slack=  -0.0 | Dual=  4.00\n"
     ]
    }
   ],
   "source": [
    "# řešení dualu\n",
    "print(\"\\nSlacky a stínové ceny\")\n",
    "for con in model.constraints.values():\n",
    "    print(f\"{con.name:12s} | Slack={con.slack:6.1f} | Dual={con.pi:6.2f}\")"
   ]
  },
  {
   "cell_type": "markdown",
   "id": "96787a6d",
   "metadata": {},
   "source": [
    "4x<sub>11</sub> + 6x<sub>12</sub> + 5x<sub>13</sub> <= 35  \n",
    "3x<sub>21</sub> + 2x<sub>22</sub> + 4x<sub>23</sub> <= 45  \n",
    "  \n",
    "4x<sub>11</sub> + 3x<sub>21</sub> = 3y<sub>11</sub> + 4y<sub>12</sub> + 2y<sub>13</sub> + 3y<sub>14</sub>  \n",
    "6x<sub>12</sub> + 2x<sub>22</sub> = 5y<sub>21</sub> + 2y<sub>22</sub> + 4y<sub>23</sub> + 1y<sub>24</sub>  \n",
    "5x<sub>13</sub> + 4x<sub>23</sub> = 4y<sub>31</sub> + 3y<sub>32</sub> + 3y<sub>33</sub> + 2y<sub>34</sub>  \n",
    "  \n",
    "3y<sub>11</sub> + 5y<sub>21</sub> + 4y<sub>31</sub> = 20  \n",
    "4y<sub>12</sub> + 2y<sub>22</sub> + 3y<sub>32</sub> = 25  \n",
    "2y<sub>13</sub> + 4y<sub>23</sub> + 3y<sub>33</sub> = 15  \n",
    "3y<sub>14</sub> + 1y<sub>24</sub> + 2y<sub>34</sub> = 20  \n",
    "\n",
    "| Primální omezení       | Duální proměnná | omezení | Typ     | Význam                       |\n",
    "| ---------------------- | --------------- | ------- | ------- | ---------------------------- |\n",
    "| Kapacita dodavatele S1 | $u_1$           |    35   | $\\le 0$ | stínová cena kapacity S1     |\n",
    "| Kapacita dodavatele S2 | $u_2$           |    45   | $\\le 0$ | stínová cena kapacity S2     |\n",
    "| Rovnováha ve skladu D1 | $v_1$           |    0    | volná   | rovnováha toku přes sklad D1 |\n",
    "| Rovnováha ve skladu D2 | $v_2$           |    0    | volná   | rovnováha toku přes sklad D2 |\n",
    "| Rovnováha ve skladu D3 | $v_3$           |    0    | volná   | rovnováha toku přes sklad D3 |\n",
    "| Poptávka zákazníka C1  | $w_1$           |    20   | volná   | stínová cena požadavku C1    |\n",
    "| Poptávka zákazníka C2  | $w_2$           |    25   | volná   | stínová cena požadavku C2    |\n",
    "| Poptávka zákazníka C3  | $w_3$           |    15   | volná   | stínová cena požadavku C3    |\n",
    "| Poptávka zákazníka C4  | $w_4$           |    20   | volná   | stínová cena požadavku C4    |\n",
    "  \n",
    "  \n",
    "  \n",
    "maximalizuj = 35 u<sub>1</sub> + 45 u<sub>2</sub> + 20 w<sub>1</sub> + 25 w<sub>2</sub> + 15 w<sub>3</sub> + 20 w<sub>4</sub>  \n",
    "\n",
    "\n"
   ]
  },
  {
   "cell_type": "markdown",
   "id": "49546627",
   "metadata": {},
   "source": [
    "📌 Podmínky optimálnosti:\n",
    "Primal feasibility – primal splňuje všechna omezení\n",
    "\n",
    "Dual feasibility – duál splňuje všechna omezení\n",
    "\n",
    "Komplementární slacks (KKT podmínky) - Buď je v primalu rezerva (slack), nebo v duálu je „cena“ (stínová hodnota), ale ne oboje zároveň.\n",
    "\n",
    "Solver:\n",
    "\n",
    "sleduje, kolik z toho je využito → to je slack:  \n",
    "*např. použijeme jen 30 → slack = 5*\n",
    "\n",
    "současně počítá duální proměnnou u1, která říká:  \n",
    "*„Kdybych měl o 1 jednotku víc (→ 36 místo 35), o kolik se zlepší optimum?“*  \n",
    "\n",
    "👉 Pokud slack > 0 → duální proměnná = 0 (nemá cenu navyšovat)\n",
    "👉 Pokud slack = 0 → duální proměnná může být záporná (cena té „hranice“)\n",
    "\n",
    "Slacks → kolik volnosti zůstalo v primalu\n",
    "\n",
    "Duální proměnné → jak „drahá“ je každá rovnice / omezení\n",
    "\n",
    "Optimalní?  \n",
    "| Krok                  | Co se kontroluje                                             |\n",
    "| --------------------- | ------------------------------------------------------------ |\n",
    "| 1. Primal feasibility | Všechna omezení primalu splněna                              |\n",
    "| 2. Dual feasibility   | Všechna omezení duálu splněna                                |\n",
    "| 3. Duality gap = 0    | $c^\\top x - b^\\top y = 0$                                    |\n",
    "| 4. Komplementarita    | Pro každé omezení: buď slack > 0 nebo dual > 0, ale ne oboje |\n"
   ]
  }
 ],
 "metadata": {
  "kernelspec": {
   "display_name": "Python 3",
   "language": "python",
   "name": "python3"
  },
  "language_info": {
   "codemirror_mode": {
    "name": "ipython",
    "version": 3
   },
   "file_extension": ".py",
   "mimetype": "text/x-python",
   "name": "python",
   "nbconvert_exporter": "python",
   "pygments_lexer": "ipython3",
   "version": "3.11.1"
  }
 },
 "nbformat": 4,
 "nbformat_minor": 5
}
