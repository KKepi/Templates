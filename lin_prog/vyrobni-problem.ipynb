{
 "cells": [
  {
   "cell_type": "markdown",
   "id": "6a12b0e0",
   "metadata": {},
   "source": [
    "Počet období T = 3  \n",
    "počáteční zásoba s<sub>0</sub> = 0  \n",
    "kapacita na období: 60  \n",
    "  \n",
    "poptávka od zákazníka dle období:  \n",
    "p<sub>1</sub> = 40  \n",
    "p<sub>2</sub> = 60  \n",
    "p<sub>3</sub> = 30  \n",
    "\n",
    "výrobní náklady:\n",
    "c<sub>1</sub> = 10  \n",
    "c<sub>2</sub> = 15  \n",
    "c<sub>3</sub> = 20  \n",
    "  \n",
    "### Primal\n",
    "  \n",
    "x<sub>t</sub> = počet jednotek vyrobených v období **t**  \n",
    "s<sub>t</sub> = zásoba na konci období **t**  \n",
    "  \n",
    "#### Objektivní funkce\n",
    "minializuj = 10 x<sub>1</sub> + 15 x<sub>2</sub> + 20 x<sub>3 + 2 s<sub>1</sub> + 3 s<sub>2</sub>  \n",
    "-> co nejméně vyrobit (levné pro mě jako výrobce), co nejméně zásob (výhodné - spoustu jsem toho prodal)    \n",
    "  \n",
    "#### Omezení\n",
    "##### bilance zásob\n",
    "x<sub>1</sub> - s<sub>1</sub> = 40  \n",
    "aktuální výroba **-** to co jsem nestihl prodat = **to co musím dodat zákazníkovi**  \n",
    "s<sub>1</sub> + x<sub>2</sub> - s<sub>2</sub> = 60  \n",
    "zásoba z minula **+** aktuální výroba **-** to co jsem nestihl prodat = **to co musím dodat zákazníkovi**  \n",
    "s<sub>2</sub> + x<sub>3</sub> = 30  \n",
    "zásoba z minula **+** aktuální výroba = **to co musím dodat zákazníkovi** (nebylo potřeba odčítat, co si beru do dalšího období, protože další období nebude)\n",
    "#### kapacita\n",
    "x<sub>t</sub> <= 60, t = 1, 2, 3  \n",
    "teoreticky si mohu vyrobené a neprodené produkty přenášet přes období, nicméně neměly by přesáhnout maximální poptávku."
   ]
  },
  {
   "cell_type": "code",
   "execution_count": 1,
   "id": "7558f27b",
   "metadata": {},
   "outputs": [],
   "source": [
    "import pulp"
   ]
  },
  {
   "cell_type": "code",
   "execution_count": 2,
   "id": "eb27f847",
   "metadata": {},
   "outputs": [],
   "source": [
    "# zadání primalu\n",
    "\n",
    "T = 3\n",
    "demand = [40, 60, 30]\n",
    "prod_cost = [10, 15, 20]\n",
    "store_cost = [2, 3]\n",
    "capacity = 60"
   ]
  },
  {
   "cell_type": "code",
   "execution_count": 3,
   "id": "5f448d87",
   "metadata": {},
   "outputs": [],
   "source": [
    "# model\n",
    "\n",
    "model = pulp.LpProblem(\"Vyrobni_Plan_LP_relaxace\", pulp.LpMinimize)"
   ]
  },
  {
   "cell_type": "code",
   "execution_count": 4,
   "id": "c4ae2ade",
   "metadata": {},
   "outputs": [],
   "source": [
    "# proměnné\n",
    "\n",
    "x = [pulp.LpVariable(f\"x_{t+1}\", lowBound=0, upBound=capacity) for t in range(T)]\n",
    "s = [pulp.LpVariable(f\"s_{t+1}\", lowBound=0) for t in range(T)]"
   ]
  },
  {
   "cell_type": "code",
   "execution_count": 5,
   "id": "6e0a34bc",
   "metadata": {},
   "outputs": [],
   "source": [
    "# Objektivní cíl\n",
    "\n",
    "model += (\n",
    "    sum(prod_cost[t] * x[t] for t in range(T)) +\n",
    "    sum(store_cost[t] * s[t] for t in range(T - 1))\n",
    ")"
   ]
  },
  {
   "cell_type": "code",
   "execution_count": 6,
   "id": "181d3be2",
   "metadata": {},
   "outputs": [],
   "source": [
    "# Omezení\n",
    "\n",
    "constraints = []\n",
    "\n",
    "constraints.append(model.addConstraint(x[0] - s[0] == demand[0], name=\"bal_1\"))\n",
    "constraints.append(model.addConstraint(s[0] + x[1] - s[1] == demand[1], name=\"bal_2\"))\n",
    "constraints.append(model.addConstraint(s[1] + x[2] == demand[2], name=\"bal_3\"))\n"
   ]
  },
  {
   "cell_type": "code",
   "execution_count": 7,
   "id": "80dcabf6",
   "metadata": {},
   "outputs": [
    {
     "data": {
      "text/plain": [
       "1"
      ]
     },
     "execution_count": 7,
     "metadata": {},
     "output_type": "execute_result"
    }
   ],
   "source": [
    "# řešení\n",
    "\n",
    "model.solve()"
   ]
  },
  {
   "cell_type": "code",
   "execution_count": 15,
   "id": "68f81e21",
   "metadata": {},
   "outputs": [
    {
     "name": "stdout",
     "output_type": "stream",
     "text": [
      "s_1 = 20.0\n",
      "s_2 = 20.0\n",
      "x_1 = 60.0\n",
      "x_2 = 60.0\n",
      "x_3 = 10.0\n"
     ]
    }
   ],
   "source": [
    "model.solve(pulp.PULP_CBC_CMD(msg=1))\n",
    "for v in model.variables():\n",
    "    print(v.name, \"=\", v.varValue)"
   ]
  },
  {
   "cell_type": "code",
   "execution_count": 17,
   "id": "044f5dfd",
   "metadata": {},
   "outputs": [
    {
     "name": "stdout",
     "output_type": "stream",
     "text": [
      "\n",
      "--- Duální proměnné (stínové ceny) a slacky ---\n",
      "bal_1: dual = 15.00, slack = -0.00\n",
      "bal_2: dual = 17.00, slack = -0.00\n",
      "bal_3: dual = 20.00, slack = -0.00\n"
     ]
    }
   ],
   "source": [
    "print(\"\\n--- Duální proměnné (stínové ceny) a slacky ---\")\n",
    "if model.status == pulp.LpStatusOptimal:\n",
    "    for name, constraint in model.constraints.items():\n",
    "        dual = constraint.pi\n",
    "        slack = constraint.slack\n",
    "        dual_str = f\"{dual:.2f}\" if dual is not None else \"N/A\"\n",
    "        slack_str = f\"{slack:.2f}\" if slack is not None else \"N/A\"\n",
    "        print(f\"{name}: dual = {dual_str}, slack = {slack_str}\")\n",
    "else:\n",
    "    print(\"Model nebyl vyřešen optimálně – nelze zobrazit duální proměnné.\")\n"
   ]
  },
  {
   "cell_type": "markdown",
   "id": "5871636a",
   "metadata": {},
   "source": [
    "Jistě! Cílem je minimalizace! A dual mi naznačuje, že nejvýhodnější je opravdu výroba v období 1! Tedy to i nasvědčuje optimální řešení, protože to vyšlo tak, že v prvním obdobím opravdu vyrábím své maximum (60 jednotek na období).  \n",
    "  \n",
    "DUAL:  \n",
    "1) výroba dalšího kusu v období 1 by zvýšila cenu o **15** Kč  \n",
    "2) výroba dalšího kusu v období 2 by zvýšila cenu o 17! Kč  \n",
    "3) výroba dalšího kusu v období 3 by zvýšila cenu o 20!! Kč  \n",
    "\n",
    "Tedy jde vidět, že model je optimální, když vyrábí v období 1 své maximum!\n",
    "\n",
    "Ale proč 15, když výroba v 1. období stojí jen 10?\n",
    "Tohle je klíčová otázka – a odpověď je:\n",
    "\n",
    "🔐 Protože není prostor vyrábět víc bez porušení jiných omezení.\n",
    "V období 1 už vyrábíš na plnou kapacitu (60).\n",
    "\n",
    "Pokud bys musel pokrýt o 1 víc, musel bys:\n",
    "\n",
    "snížit zásoby do období 2 → v období 2 musíš víc vyrábět → to je dražší!\n",
    "\n",
    "nebo omezit pokrytí v budoucnu → znovu vyšší náklad.\n",
    "\n",
    "Primal:  \n",
    "min 10 x<sub>1</sub> + 15 x<sub>2</sub> + 20 x<sub>3 + 2 s<sub>1</sub> + 3 s<sub>2</sub>  \n",
    "x<sub>1</sub> - s<sub>1</sub> = 40  \n",
    "s<sub>1</sub> + x<sub>2</sub> - s<sub>2</sub> = 60  \n",
    "s<sub>2</sub> + x<sub>3</sub> = 30  \n",
    "  \n",
    "Duál:\n",
    "max 40 λ<sub>1</sub> + 60 λ<sub>2</sub> + 30 λ<sub>3</sub> (využij vše)  \n",
    "λ<sub>1</sub> + μ<sub>1</sub> <= 10 (výroba v 1 období)  \n",
    "λ<sub>2</sub> - λ<sub>1</sub> + μ<sub>2</sub> <= 15 (výroba v 2 období)  \n",
    "λ<sub>3</sub> - λ<sub>2</sub> + μ<sub>3</sub> <= 20 (výroba v 3 období)  \n",
    "-λ<sub>1</sub> + v<sub>1</sub> <= 2 (zásoba po 1 období)   \n",
    "-λ<sub>2</sub> + v<sub>2</sub> <= 3 (zásoba po 2 období)   \n",
    "\n"
   ]
  },
  {
   "cell_type": "code",
   "execution_count": 18,
   "id": "0620431a",
   "metadata": {},
   "outputs": [
    {
     "data": {
      "image/png": "[encoded data removed]",
      "text/plain": [
       "<Figure size 1000x600 with 1 Axes>"
      ]
     },
     "metadata": {},
     "output_type": "display_data"
    }
   ],
   "source": [
    "import matplotlib.pyplot as plt\n",
    "\n",
    "# === VLOŽ SVÁ DATA ZDE ===\n",
    "periods = [1, 2, 3]  # Období\n",
    "x = [60, 60, 10]     # Výroba v jednotlivých obdobích (x_t)\n",
    "s = [20, 20, 0]      # Zásoba na konci období (s_t)\n",
    "p = [40, 60, 30]     # Poptávka od zákazníků v jednotlivých obdobích (p_t)\n",
    "\n",
    "# === VYKRESLENÍ ===\n",
    "plt.figure(figsize=(10, 6))\n",
    "\n",
    "# Výroba\n",
    "plt.bar(periods, x, width=0.2, label='Výroba (xₜ)', align='center')\n",
    "\n",
    "# Zásoba na konci\n",
    "plt.bar([t + 0.25 for t in periods], s, width=0.2, label='Zásoba (sₜ)', align='center')\n",
    "\n",
    "# Poptávka\n",
    "plt.bar([t + 0.5 for t in periods], p, width=0.2, label='Poptávka (pₜ)', align='center')\n",
    "\n",
    "# Popisky a styly\n",
    "plt.xticks(periods)\n",
    "plt.xlabel(\"Období\")\n",
    "plt.ylabel(\"Počet jednotek\")\n",
    "plt.title(\"Vývoj výroby, zásob a poptávky\")\n",
    "plt.legend()\n",
    "plt.grid(axis='y', linestyle='--', alpha=0.7)\n",
    "\n",
    "plt.tight_layout()\n",
    "plt.show()\n"
   ]
  }
 ],
 "metadata": {
  "kernelspec": {
   "display_name": "Python 3",
   "language": "python",
   "name": "python3"
  },
  "language_info": {
   "codemirror_mode": {
    "name": "ipython",
    "version": 3
   },
   "file_extension": ".py",
   "mimetype": "text/x-python",
   "name": "python",
   "nbconvert_exporter": "python",
   "pygments_lexer": "ipython3",
   "version": "3.11.1"
  }
 },
 "nbformat": 4,
 "nbformat_minor": 5
}
