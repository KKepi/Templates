{
 "cells": [
  {
   "cell_type": "markdown",
   "id": "1cd5fe31",
   "metadata": {},
   "source": [
    "#### Směsovací problém\n",
    "  \n",
    "- 15 druhů potravin s cenou (tabulka, proměnné)\n",
    "- objektivní cíl: cena\n",
    "- omezující podmínky:\n",
    "  - a) maximální množství tuků, bílkovin a sacharidů\n",
    "  - b) minimální množství tuků, bílkovin a sacharidů\n",
    "  - zdroj těchto dat: internet\n",
    "\n",
    "Cíl:\n",
    "- stanovit primal\n",
    "  - různé výstupy na základě různých druhů množství tuků, bílkovin a sacharidů\n",
    "- dual \n",
    "  - optimální výsledek\n",
    "\n",
    "#### Soustava\n",
    "\n",
    "**Vstupní hodnoty**  \n",
    "  \n",
    "*Ceny a živiny (g/g)*\n",
    "| Proměnná | Položka                | Cena (Kč/g) | Bílkoviny (g/g) | Tuky (g/g) | Sacharidy (g/g) |\n",
    "|----------|------------------------|-------------|-----------------|------------|-----------------|\n",
    "| x₁       | Kuřecí stehno maso     | 0.22        | 0.178           | 0.080      | 0.000           |\n",
    "| x₂       | Hovězí zadní maso      | 0.35        | 0.210           | 0.036      | 0.000           |\n",
    "| x₃       | Králičí stehno maso    | 0.45        | 0.300           | 0.035      | 0.000           |\n",
    "| x₄       | Losos maso             | 0.75        | 0.204           | 0.124      | 0.000           |\n",
    "| x₅       | Brambory               | 0.035       | 0.020           | 0.001      | 0.170           |\n",
    "| x₆       | Batát                  | 0.06        | 0.016           | 0.001      | 0.201           |\n",
    "| x₇       | Rýže                   | 0.038       | 0.071           | 0.007      | 0.804           |\n",
    "| x₈       | Avokádo                | 0.25        | 0.020           | 0.150      | 0.085           |\n",
    "| x₉       | Máslo                  | 0.15        | 0.005           | 0.810      | 0.010           |\n",
    "| x₁₀      | Vajíčko                | 1.3         | 0.126           | 0.106      | 0.011           |\n",
    "  \n",
    "    \n",
    "       \n",
    "*Denní příjem*    \n",
    "| Makroživiny    | Bílkoviny (g) | Tuky (g) | Sacharidy (g) |\n",
    "|----------------|---------------|----------|---------------|\n",
    "| Minimum (10 %/20 %/45 % energie)  | 50            | 44       | 225           |\n",
    "| Maximum (35 %/35 %/65 % energie)  | 175           | 78       | 325           |\n",
    "  \n",
    "### Objektivní cíl... minimalizace ceny:  \n",
    "z = 0.22 x<sub>1</sub> + 0.35 x<sub>2</sub> + 0.45 x<sub>3</sub> + 0.75 x<sub>4</sub> + 0.035 x<sub>5</sub> + 0.06 x<sub>6</sub> + 0.038 x<sub>7</sub> + 0.25 x<sub>8</sub> + 0.15 x<sub>9</sub> + 1.30 x<sub>10</sub> *cena*  \n",
    "\n",
    "### Omezující podmínky... \n",
    "**50** < 0.178 x<sub>1</sub> + 0.210 x<sub>2</sub> + 0.300 x<sub>3</sub> + 0.204 x<sub>4</sub> + 0.020 x<sub>5</sub> + 0.016 x<sub>6</sub> + 0.071 x<sub>7</sub> + 0.200 x<sub>8</sub> + 0.005 x<sub>9</sub> + 0.126 x<sub>10</sub> < **175** *bílkoviny*  \n",
    "**44** < 0.080 x<sub>1</sub> + 0.036 x<sub>2</sub> + 0.035 x<sub>3</sub> + 0.124 x<sub>4</sub> + 0.001 x<sub>5</sub> + 0.001 x<sub>6</sub> + 0.007 x<sub>7</sub> + 0.150 x<sub>8</sub> + 0.810 x<sub>9</sub> + 0.106 x<sub>10</sub> < **78** *tuky*    \n",
    "**225** < 0.000 x<sub>1</sub> + 0.000 x<sub>2</sub> + 0.000 x<sub>3</sub> + 0.000 x<sub>4</sub> + 0.170 x<sub>5</sub> + 0.201 x<sub>6</sub> + 0.804 x<sub>7</sub> + 0.085 x<sub>8</sub> + 0.010 x<sub>9</sub> + 0.011 x<sub>10</sub> < **325** *sacharidy* \n",
    "  \n",
    "x<sub>1-10</sub> > 0  "
   ]
  },
  {
   "cell_type": "code",
   "execution_count": 3,
   "id": "eea79126",
   "metadata": {},
   "outputs": [],
   "source": [
    "from pulp import *"
   ]
  },
  {
   "cell_type": "code",
   "execution_count": 4,
   "id": "d93a9561",
   "metadata": {},
   "outputs": [],
   "source": [
    "# stanovení primalu\n",
    "\n",
    "foods = [\n",
    "    \"kuřecí\", \"hovězí\", \"králičí\", \"losos\", \"brambory\",\n",
    "    \"batát\", \"rýže\", \"avokádo\", \"máslo\", \"vajíčko\"\n",
    "]\n",
    "\n",
    "price =     [0.22, 0.35, 0.45, 0.75, 0.035, 0.06, 0.038, 0.25, 0.15, 1.30]\n",
    "protein =   [0.178, 0.210, 0.300, 0.204, 0.020, 0.016, 0.071, 0.020, 0.005, 0.126]\n",
    "fat =       [0.080, 0.036, 0.035, 0.124, 0.001, 0.001, 0.007, 0.150, 0.810, 0.106]\n",
    "carb =      [0.000, 0.000, 0.000, 0.000, 0.170, 0.201, 0.804, 0.085, 0.010, 0.011]\n",
    "\n",
    "# nutriční limity\n",
    "min_p, max_p = 50, 175     # bílkoviny\n",
    "min_f, max_f = 44, 78      # tuky\n",
    "min_c, max_c = 225, 325    # sacharidy"
   ]
  },
  {
   "cell_type": "code",
   "execution_count": 5,
   "id": "24a9888a",
   "metadata": {},
   "outputs": [],
   "source": [
    "# příprava modelu\n",
    "\n",
    "model = LpProblem(\"MixingProblem\", LpMinimize)\n",
    "x = LpVariable.dicts(\"x\", foods, lowBound=0)      # gramy každé potraviny"
   ]
  },
  {
   "cell_type": "code",
   "execution_count": 6,
   "id": "61cee41f",
   "metadata": {},
   "outputs": [],
   "source": [
    "# objective function: cílová funkce (minimalizace ceny)\n",
    "\n",
    "model += lpSum(x[f] * price[i] for i, f in enumerate(foods)), \"TotalCost\""
   ]
  },
  {
   "cell_type": "markdown",
   "id": "a2a748c6",
   "metadata": {},
   "source": [
    "model = 0.22 x<sub>1</sub> + 0.35 x<sub>2</sub> + 0.45 x<sub>3</sub> + 0.75 x<sub>4</sub> + 0.035 x<sub>5</sub> + 0.06 x<sub>6</sub> + 0.038 x<sub>7</sub> + 0.25 x<sub>8</sub> + 0.15 x<sub>9</sub> + 1.30 x<sub>10</sub> *cena*  "
   ]
  },
  {
   "cell_type": "code",
   "execution_count": 7,
   "id": "13e375fe",
   "metadata": {},
   "outputs": [],
   "source": [
    "# constraints: omezení proměnných\n",
    "\n",
    "# BÍLKOVINY\n",
    "model += lpSum(x[f] * protein[i] for i, f in enumerate(foods)) >= min_p, \"min_protein\"\n",
    "model += lpSum(x[f] * protein[i] for i, f in enumerate(foods)) <= max_p, \"max_protein\"\n",
    "\n",
    "# TUKY\n",
    "model += lpSum(x[f] * fat[i] for i, f in enumerate(foods)) >= min_f, \"min_fat\"\n",
    "model += lpSum(x[f] * fat[i] for i, f in enumerate(foods)) <= max_f, \"max_fat\"\n",
    "\n",
    "# SACHARIDY\n",
    "model += lpSum(x[f] * carb[i] for i, f in enumerate(foods)) >= min_c, \"min_carb\"\n",
    "model += lpSum(x[f] * carb[i] for i, f in enumerate(foods)) <= max_c, \"max_carb\""
   ]
  },
  {
   "cell_type": "code",
   "execution_count": 8,
   "id": "5c6e6091",
   "metadata": {},
   "outputs": [
    {
     "data": {
      "text/plain": [
       "1"
      ]
     },
     "execution_count": 8,
     "metadata": {},
     "output_type": "execute_result"
    }
   ],
   "source": [
    "# řešení\n",
    "\n",
    "model.solve()"
   ]
  },
  {
   "cell_type": "code",
   "execution_count": 9,
   "id": "0441e591",
   "metadata": {},
   "outputs": [
    {
     "name": "stdout",
     "output_type": "stream",
     "text": [
      "\n",
      "✅  Stav: Optimal\n",
      "💰  Minimální cena: 47.33 Kč\n",
      "📦  Optimální složení (g):\n",
      "   kuřecí    : 118.8\n",
      "   rýže      : 403.7\n",
      "   máslo     : 39.1\n"
     ]
    }
   ],
   "source": [
    "# řešení primalu\n",
    "\n",
    "print(f\"\\n✅  Stav: {LpStatus[model.status]}\")\n",
    "print(f\"💰  Minimální cena: {value(model.objective):.2f} Kč\")\n",
    "print(\"📦  Optimální složení (g):\")\n",
    "for f in foods:\n",
    "    q = x[f].varValue\n",
    "    if q > 1e-3:\n",
    "        print(f\"   {f:<10}: {q:.1f}\")"
   ]
  },
  {
   "cell_type": "code",
   "execution_count": 10,
   "id": "860bfaec",
   "metadata": {},
   "outputs": [
    {
     "name": "stdout",
     "output_type": "stream",
     "text": [
      "\n",
      "📊  Slacky a stínové ceny\n",
      "-----------------------------------------------------------\n",
      "Omezení      |    Slack |      Dual | Aktivní\n",
      "-----------------------------------------------------------\n",
      "min_protein  |     -0.0 |     1.156 | True\n",
      "max_protein  |    125.0 |     0.000 | False\n",
      "min_fat      |     -0.0 |     0.179 | True\n",
      "max_fat      |     34.0 |     0.000 | False\n",
      "min_carb     |   -100.0 |     0.000 | False\n",
      "max_carb     |     -0.0 |    -0.056 | True\n"
     ]
    }
   ],
   "source": [
    "# slacky (fiktivní proměnné pro optimalizaci) a stínové ceny (váhy omezení)\n",
    "print(\"\\n📊  Slacky a stínové ceny\")\n",
    "print(\"-----------------------------------------------------------\")\n",
    "print(f\"{'Omezení':<12} | {'Slack':>8} | {'Dual':>9} | Aktivní\")\n",
    "print(\"-----------------------------------------------------------\")\n",
    "for c in model.constraints.values():\n",
    "    name = c.name\n",
    "    slack = c.slack\n",
    "    dual  = c.pi          # stínová cena\n",
    "    active = abs(slack) < 1e-4\n",
    "    print(f\"{name:<12} | {slack:8.1f} | {dual:9.3f} | {active}\")"
   ]
  },
  {
   "cell_type": "code",
   "execution_count": 11,
   "id": "a252ec54",
   "metadata": {},
   "outputs": [
    {
     "name": "stdout",
     "output_type": "stream",
     "text": [
      "\n",
      "🔍  Primal = 47.334197 | Dual = 47.334197545 | Gap = -5.449999989082244e-07\n"
     ]
    }
   ],
   "source": [
    "# kontrola duality\n",
    "dual_val = (min_p * model.constraints[\"min_protein\"].pi +\n",
    "            max_p * model.constraints[\"max_protein\"].pi +\n",
    "            min_f * model.constraints[\"min_fat\"].pi +\n",
    "            max_f * model.constraints[\"max_fat\"].pi +\n",
    "            min_c * model.constraints[\"min_carb\"].pi +\n",
    "            max_c * model.constraints[\"max_carb\"].pi)\n",
    "\n",
    "print(\"\\n🔍  Primal =\", value(model.objective),\n",
    "      \"| Dual =\", dual_val,\n",
    "      \"| Gap =\", value(model.objective) - dual_val)"
   ]
  }
 ],
 "metadata": {
  "kernelspec": {
   "display_name": "Python 3",
   "language": "python",
   "name": "python3"
  },
  "language_info": {
   "codemirror_mode": {
    "name": "ipython",
    "version": 3
   },
   "file_extension": ".py",
   "mimetype": "text/x-python",
   "name": "python",
   "nbconvert_exporter": "python",
   "pygments_lexer": "ipython3",
   "version": "3.11.1"
  }
 },
 "nbformat": 4,
 "nbformat_minor": 5
}
